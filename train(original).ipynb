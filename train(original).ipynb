{
 "cells": [
  {
   "cell_type": "markdown",
   "metadata": {},
   "source": [
    "# Chess Engine with TensorFlow"
   ]
  },
  {
   "cell_type": "markdown",
   "metadata": {},
   "source": [
    "## Dataset"
   ]
  },
  {
   "cell_type": "code",
   "execution_count": 1,
   "metadata": {},
   "outputs": [],
   "source": [
    "import os\n",
    "# inspired by Github user Skripkon \n",
    "# https://github.com/Skripkon/chess-engine/blob/main/engines/tensorflow/train_and_predict.ipynb\n",
    "# used to train models from scratch\n",
    "# took around 3 hours for 20000 games\n",
    "\n",
    "# get the game files\n",
    "files = [file for file in os.listdir(\"simulated_games_filtered_PGN\") if file.endswith(\".pgn\")]"
   ]
  },
  {
   "cell_type": "code",
   "execution_count": 2,
   "metadata": {},
   "outputs": [],
   "source": [
    "from chess import pgn\n",
    "\n",
    "# load the games\n",
    "def load_pgn(file_path):\n",
    "    games = []\n",
    "    with open(file_path, 'r') as pgn_file:\n",
    "        while True:\n",
    "            game = pgn.read_game(pgn_file)\n",
    "            if game is None:\n",
    "                break\n",
    "            games.append(game)\n",
    "            \n",
    "    return games"
   ]
  },
  {
   "cell_type": "code",
   "execution_count": 3,
   "metadata": {},
   "outputs": [
    {
     "name": "stderr",
     "output_type": "stream",
     "text": [
      "100%|██████████| 11/11 [00:18<00:00,  1.69s/it]\n"
     ]
    }
   ],
   "source": [
    "from tqdm import tqdm\n",
    "# write all the games together \n",
    "\n",
    "games = []\n",
    "for file in tqdm(files):\n",
    "    games.extend(load_pgn(f\"simulated_games_filtered_PGN/{file}\"))"
   ]
  },
  {
   "cell_type": "code",
   "execution_count": 4,
   "metadata": {},
   "outputs": [
    {
     "data": {
      "text/plain": [
       "10085"
      ]
     },
     "execution_count": 4,
     "metadata": {},
     "output_type": "execute_result"
    }
   ],
   "source": [
    "len(games) # check how many "
   ]
  },
  {
   "cell_type": "markdown",
   "metadata": {},
   "source": [
    "## Build & train a neural network"
   ]
  },
  {
   "cell_type": "code",
   "execution_count": 5,
   "metadata": {},
   "outputs": [],
   "source": [
    "import numpy as np\n",
    "import warnings\n",
    "warnings.filterwarnings('ignore')\n",
    "from chess import Board\n",
    "import tensorflow as tf"
   ]
  },
  {
   "cell_type": "code",
   "execution_count": 6,
   "metadata": {},
   "outputs": [],
   "source": [
    "#translating the board into a matrix for the predition process \n",
    "def board_to_matrix(board: Board):\n",
    "    matrix = np.zeros((8, 8, 12))\n",
    "    piece_map = board.piece_map()\n",
    "    for square, piece in piece_map.items():\n",
    "        row, col = divmod(square, 8)\n",
    "        piece_type = piece.piece_type - 1\n",
    "        piece_color = 0 if piece.color else 6\n",
    "        matrix[row, col, piece_type + piece_color] = 1\n",
    "    return matrix\n",
    "\n",
    "# create the inputs based off game position and next move \n",
    "def create_input_for_nn(games):\n",
    "    X = []\n",
    "    y = []\n",
    "    for game in games:\n",
    "        board = game.board()\n",
    "        for move in game.mainline_moves():\n",
    "            X.append(board_to_matrix(board))\n",
    "            y.append(move.uci())\n",
    "            board.push(move)\n",
    "    return X, y\n",
    "\n",
    "# encode all the moves\n",
    "def encode_moves(moves):\n",
    "    move_to_int = {move: idx for idx, move in enumerate(set(moves))}\n",
    "    return [move_to_int[move] for move in moves], move_to_int"
   ]
  },
  {
   "cell_type": "code",
   "execution_count": 7,
   "metadata": {},
   "outputs": [],
   "source": [
    "# create the training data\n",
    "X, y = create_input_for_nn(games)\n",
    "y, move_to_int = encode_moves(y)\n",
    "y = tf.keras.utils.to_categorical(y, num_classes=len(move_to_int))\n",
    "X = np.array(X)"
   ]
  },
  {
   "cell_type": "code",
   "execution_count": 8,
   "metadata": {},
   "outputs": [
    {
     "data": {
      "text/html": [
       "<pre style=\"white-space:pre;overflow-x:auto;line-height:normal;font-family:Menlo,'DejaVu Sans Mono',consolas,'Courier New',monospace\"><span style=\"font-weight: bold\">Model: \"sequential\"</span>\n",
       "</pre>\n"
      ],
      "text/plain": [
       "\u001b[1mModel: \"sequential\"\u001b[0m\n"
      ]
     },
     "metadata": {},
     "output_type": "display_data"
    },
    {
     "data": {
      "text/html": [
       "<pre style=\"white-space:pre;overflow-x:auto;line-height:normal;font-family:Menlo,'DejaVu Sans Mono',consolas,'Courier New',monospace\">┏━━━━━━━━━━━━━━━━━━━━━━━━━━━━━━━━━┳━━━━━━━━━━━━━━━━━━━━━━━━┳━━━━━━━━━━━━━━━┓\n",
       "┃<span style=\"font-weight: bold\"> Layer (type)                    </span>┃<span style=\"font-weight: bold\"> Output Shape           </span>┃<span style=\"font-weight: bold\">       Param # </span>┃\n",
       "┡━━━━━━━━━━━━━━━━━━━━━━━━━━━━━━━━━╇━━━━━━━━━━━━━━━━━━━━━━━━╇━━━━━━━━━━━━━━━┩\n",
       "│ conv2d (<span style=\"color: #0087ff; text-decoration-color: #0087ff\">Conv2D</span>)                 │ (<span style=\"color: #00d7ff; text-decoration-color: #00d7ff\">None</span>, <span style=\"color: #00af00; text-decoration-color: #00af00\">6</span>, <span style=\"color: #00af00; text-decoration-color: #00af00\">6</span>, <span style=\"color: #00af00; text-decoration-color: #00af00\">64</span>)       │         <span style=\"color: #00af00; text-decoration-color: #00af00\">6,976</span> │\n",
       "├─────────────────────────────────┼────────────────────────┼───────────────┤\n",
       "│ conv2d_1 (<span style=\"color: #0087ff; text-decoration-color: #0087ff\">Conv2D</span>)               │ (<span style=\"color: #00d7ff; text-decoration-color: #00d7ff\">None</span>, <span style=\"color: #00af00; text-decoration-color: #00af00\">4</span>, <span style=\"color: #00af00; text-decoration-color: #00af00\">4</span>, <span style=\"color: #00af00; text-decoration-color: #00af00\">128</span>)      │        <span style=\"color: #00af00; text-decoration-color: #00af00\">73,856</span> │\n",
       "├─────────────────────────────────┼────────────────────────┼───────────────┤\n",
       "│ flatten (<span style=\"color: #0087ff; text-decoration-color: #0087ff\">Flatten</span>)               │ (<span style=\"color: #00d7ff; text-decoration-color: #00d7ff\">None</span>, <span style=\"color: #00af00; text-decoration-color: #00af00\">2048</span>)           │             <span style=\"color: #00af00; text-decoration-color: #00af00\">0</span> │\n",
       "├─────────────────────────────────┼────────────────────────┼───────────────┤\n",
       "│ dense (<span style=\"color: #0087ff; text-decoration-color: #0087ff\">Dense</span>)                   │ (<span style=\"color: #00d7ff; text-decoration-color: #00d7ff\">None</span>, <span style=\"color: #00af00; text-decoration-color: #00af00\">256</span>)            │       <span style=\"color: #00af00; text-decoration-color: #00af00\">524,544</span> │\n",
       "├─────────────────────────────────┼────────────────────────┼───────────────┤\n",
       "│ dense_1 (<span style=\"color: #0087ff; text-decoration-color: #0087ff\">Dense</span>)                 │ (<span style=\"color: #00d7ff; text-decoration-color: #00d7ff\">None</span>, <span style=\"color: #00af00; text-decoration-color: #00af00\">1945</span>)           │       <span style=\"color: #00af00; text-decoration-color: #00af00\">499,865</span> │\n",
       "└─────────────────────────────────┴────────────────────────┴───────────────┘\n",
       "</pre>\n"
      ],
      "text/plain": [
       "┏━━━━━━━━━━━━━━━━━━━━━━━━━━━━━━━━━┳━━━━━━━━━━━━━━━━━━━━━━━━┳━━━━━━━━━━━━━━━┓\n",
       "┃\u001b[1m \u001b[0m\u001b[1mLayer (type)                   \u001b[0m\u001b[1m \u001b[0m┃\u001b[1m \u001b[0m\u001b[1mOutput Shape          \u001b[0m\u001b[1m \u001b[0m┃\u001b[1m \u001b[0m\u001b[1m      Param #\u001b[0m\u001b[1m \u001b[0m┃\n",
       "┡━━━━━━━━━━━━━━━━━━━━━━━━━━━━━━━━━╇━━━━━━━━━━━━━━━━━━━━━━━━╇━━━━━━━━━━━━━━━┩\n",
       "│ conv2d (\u001b[38;5;33mConv2D\u001b[0m)                 │ (\u001b[38;5;45mNone\u001b[0m, \u001b[38;5;34m6\u001b[0m, \u001b[38;5;34m6\u001b[0m, \u001b[38;5;34m64\u001b[0m)       │         \u001b[38;5;34m6,976\u001b[0m │\n",
       "├─────────────────────────────────┼────────────────────────┼───────────────┤\n",
       "│ conv2d_1 (\u001b[38;5;33mConv2D\u001b[0m)               │ (\u001b[38;5;45mNone\u001b[0m, \u001b[38;5;34m4\u001b[0m, \u001b[38;5;34m4\u001b[0m, \u001b[38;5;34m128\u001b[0m)      │        \u001b[38;5;34m73,856\u001b[0m │\n",
       "├─────────────────────────────────┼────────────────────────┼───────────────┤\n",
       "│ flatten (\u001b[38;5;33mFlatten\u001b[0m)               │ (\u001b[38;5;45mNone\u001b[0m, \u001b[38;5;34m2048\u001b[0m)           │             \u001b[38;5;34m0\u001b[0m │\n",
       "├─────────────────────────────────┼────────────────────────┼───────────────┤\n",
       "│ dense (\u001b[38;5;33mDense\u001b[0m)                   │ (\u001b[38;5;45mNone\u001b[0m, \u001b[38;5;34m256\u001b[0m)            │       \u001b[38;5;34m524,544\u001b[0m │\n",
       "├─────────────────────────────────┼────────────────────────┼───────────────┤\n",
       "│ dense_1 (\u001b[38;5;33mDense\u001b[0m)                 │ (\u001b[38;5;45mNone\u001b[0m, \u001b[38;5;34m1945\u001b[0m)           │       \u001b[38;5;34m499,865\u001b[0m │\n",
       "└─────────────────────────────────┴────────────────────────┴───────────────┘\n"
      ]
     },
     "metadata": {},
     "output_type": "display_data"
    },
    {
     "data": {
      "text/html": [
       "<pre style=\"white-space:pre;overflow-x:auto;line-height:normal;font-family:Menlo,'DejaVu Sans Mono',consolas,'Courier New',monospace\"><span style=\"font-weight: bold\"> Total params: </span><span style=\"color: #00af00; text-decoration-color: #00af00\">1,105,241</span> (4.22 MB)\n",
       "</pre>\n"
      ],
      "text/plain": [
       "\u001b[1m Total params: \u001b[0m\u001b[38;5;34m1,105,241\u001b[0m (4.22 MB)\n"
      ]
     },
     "metadata": {},
     "output_type": "display_data"
    },
    {
     "data": {
      "text/html": [
       "<pre style=\"white-space:pre;overflow-x:auto;line-height:normal;font-family:Menlo,'DejaVu Sans Mono',consolas,'Courier New',monospace\"><span style=\"font-weight: bold\"> Trainable params: </span><span style=\"color: #00af00; text-decoration-color: #00af00\">1,105,241</span> (4.22 MB)\n",
       "</pre>\n"
      ],
      "text/plain": [
       "\u001b[1m Trainable params: \u001b[0m\u001b[38;5;34m1,105,241\u001b[0m (4.22 MB)\n"
      ]
     },
     "metadata": {},
     "output_type": "display_data"
    },
    {
     "data": {
      "text/html": [
       "<pre style=\"white-space:pre;overflow-x:auto;line-height:normal;font-family:Menlo,'DejaVu Sans Mono',consolas,'Courier New',monospace\"><span style=\"font-weight: bold\"> Non-trainable params: </span><span style=\"color: #00af00; text-decoration-color: #00af00\">0</span> (0.00 B)\n",
       "</pre>\n"
      ],
      "text/plain": [
       "\u001b[1m Non-trainable params: \u001b[0m\u001b[38;5;34m0\u001b[0m (0.00 B)\n"
      ]
     },
     "metadata": {},
     "output_type": "display_data"
    },
    {
     "name": "stdout",
     "output_type": "stream",
     "text": [
      "Epoch 1/50\n",
      "\u001b[1m15743/15743\u001b[0m \u001b[32m━━━━━━━━━━━━━━━━━━━━\u001b[0m\u001b[37m\u001b[0m \u001b[1m54s\u001b[0m 3ms/step - accuracy: 0.0624 - loss: 5.3353 - val_accuracy: 0.0789 - val_loss: 4.7490\n",
      "Epoch 2/50\n",
      "\u001b[1m15743/15743\u001b[0m \u001b[32m━━━━━━━━━━━━━━━━━━━━\u001b[0m\u001b[37m\u001b[0m \u001b[1m49s\u001b[0m 3ms/step - accuracy: 0.0864 - loss: 4.5241 - val_accuracy: 0.0867 - val_loss: 4.5160\n",
      "Epoch 3/50\n",
      "\u001b[1m15743/15743\u001b[0m \u001b[32m━━━━━━━━━━━━━━━━━━━━\u001b[0m\u001b[37m\u001b[0m \u001b[1m49s\u001b[0m 3ms/step - accuracy: 0.0962 - loss: 4.3295 - val_accuracy: 0.0901 - val_loss: 4.4441\n",
      "Epoch 4/50\n",
      "\u001b[1m15743/15743\u001b[0m \u001b[32m━━━━━━━━━━━━━━━━━━━━\u001b[0m\u001b[37m\u001b[0m \u001b[1m47s\u001b[0m 3ms/step - accuracy: 0.1029 - loss: 4.2256 - val_accuracy: 0.0911 - val_loss: 4.3969\n",
      "Epoch 5/50\n",
      "\u001b[1m15743/15743\u001b[0m \u001b[32m━━━━━━━━━━━━━━━━━━━━\u001b[0m\u001b[37m\u001b[0m \u001b[1m51s\u001b[0m 3ms/step - accuracy: 0.1072 - loss: 4.1584 - val_accuracy: 0.0943 - val_loss: 4.3675\n",
      "Epoch 6/50\n",
      "\u001b[1m15743/15743\u001b[0m \u001b[32m━━━━━━━━━━━━━━━━━━━━\u001b[0m\u001b[37m\u001b[0m \u001b[1m50s\u001b[0m 3ms/step - accuracy: 0.1111 - loss: 4.1100 - val_accuracy: 0.0947 - val_loss: 4.3612\n",
      "Epoch 7/50\n",
      "\u001b[1m15743/15743\u001b[0m \u001b[32m━━━━━━━━━━━━━━━━━━━━\u001b[0m\u001b[37m\u001b[0m \u001b[1m52s\u001b[0m 3ms/step - accuracy: 0.1138 - loss: 4.0714 - val_accuracy: 0.0968 - val_loss: 4.3558\n",
      "Epoch 8/50\n",
      "\u001b[1m15743/15743\u001b[0m \u001b[32m━━━━━━━━━━━━━━━━━━━━\u001b[0m\u001b[37m\u001b[0m \u001b[1m53s\u001b[0m 3ms/step - accuracy: 0.1159 - loss: 4.0400 - val_accuracy: 0.0948 - val_loss: 4.3349\n",
      "Epoch 9/50\n",
      "\u001b[1m15743/15743\u001b[0m \u001b[32m━━━━━━━━━━━━━━━━━━━━\u001b[0m\u001b[37m\u001b[0m \u001b[1m75s\u001b[0m 5ms/step - accuracy: 0.1186 - loss: 4.0147 - val_accuracy: 0.0948 - val_loss: 4.3454\n",
      "Epoch 10/50\n",
      "\u001b[1m15743/15743\u001b[0m \u001b[32m━━━━━━━━━━━━━━━━━━━━\u001b[0m\u001b[37m\u001b[0m \u001b[1m75s\u001b[0m 5ms/step - accuracy: 0.1206 - loss: 3.9931 - val_accuracy: 0.0968 - val_loss: 4.3314\n",
      "Epoch 11/50\n",
      "\u001b[1m15743/15743\u001b[0m \u001b[32m━━━━━━━━━━━━━━━━━━━━\u001b[0m\u001b[37m\u001b[0m \u001b[1m77s\u001b[0m 5ms/step - accuracy: 0.1217 - loss: 3.9744 - val_accuracy: 0.0963 - val_loss: 4.3148\n",
      "Epoch 12/50\n",
      "\u001b[1m15743/15743\u001b[0m \u001b[32m━━━━━━━━━━━━━━━━━━━━\u001b[0m\u001b[37m\u001b[0m \u001b[1m77s\u001b[0m 5ms/step - accuracy: 0.1230 - loss: 3.9600 - val_accuracy: 0.0978 - val_loss: 4.3365\n",
      "Epoch 13/50\n",
      "\u001b[1m15743/15743\u001b[0m \u001b[32m━━━━━━━━━━━━━━━━━━━━\u001b[0m\u001b[37m\u001b[0m \u001b[1m77s\u001b[0m 5ms/step - accuracy: 0.1243 - loss: 3.9465 - val_accuracy: 0.0990 - val_loss: 4.3365\n",
      "Epoch 14/50\n",
      "\u001b[1m15743/15743\u001b[0m \u001b[32m━━━━━━━━━━━━━━━━━━━━\u001b[0m\u001b[37m\u001b[0m \u001b[1m76s\u001b[0m 5ms/step - accuracy: 0.1250 - loss: 3.9362 - val_accuracy: 0.0986 - val_loss: 4.3257\n",
      "Epoch 15/50\n",
      "\u001b[1m15743/15743\u001b[0m \u001b[32m━━━━━━━━━━━━━━━━━━━━\u001b[0m\u001b[37m\u001b[0m \u001b[1m72s\u001b[0m 5ms/step - accuracy: 0.1257 - loss: 3.9268 - val_accuracy: 0.0965 - val_loss: 4.3391\n",
      "Epoch 16/50\n",
      "\u001b[1m15743/15743\u001b[0m \u001b[32m━━━━━━━━━━━━━━━━━━━━\u001b[0m\u001b[37m\u001b[0m \u001b[1m60s\u001b[0m 4ms/step - accuracy: 0.1266 - loss: 3.9189 - val_accuracy: 0.0972 - val_loss: 4.3241\n",
      "Epoch 17/50\n",
      "\u001b[1m15743/15743\u001b[0m \u001b[32m━━━━━━━━━━━━━━━━━━━━\u001b[0m\u001b[37m\u001b[0m \u001b[1m76s\u001b[0m 5ms/step - accuracy: 0.1279 - loss: 3.9123 - val_accuracy: 0.0987 - val_loss: 4.3445\n",
      "Epoch 18/50\n",
      "\u001b[1m15743/15743\u001b[0m \u001b[32m━━━━━━━━━━━━━━━━━━━━\u001b[0m\u001b[37m\u001b[0m \u001b[1m78s\u001b[0m 5ms/step - accuracy: 0.1280 - loss: 3.9056 - val_accuracy: 0.0992 - val_loss: 4.3392\n",
      "Epoch 19/50\n",
      "\u001b[1m15743/15743\u001b[0m \u001b[32m━━━━━━━━━━━━━━━━━━━━\u001b[0m\u001b[37m\u001b[0m \u001b[1m77s\u001b[0m 5ms/step - accuracy: 0.1284 - loss: 3.8999 - val_accuracy: 0.0981 - val_loss: 4.3253\n",
      "Epoch 20/50\n",
      "\u001b[1m15743/15743\u001b[0m \u001b[32m━━━━━━━━━━━━━━━━━━━━\u001b[0m\u001b[37m\u001b[0m \u001b[1m77s\u001b[0m 5ms/step - accuracy: 0.1288 - loss: 3.8965 - val_accuracy: 0.1007 - val_loss: 4.3350\n",
      "Epoch 21/50\n",
      "\u001b[1m15743/15743\u001b[0m \u001b[32m━━━━━━━━━━━━━━━━━━━━\u001b[0m\u001b[37m\u001b[0m \u001b[1m76s\u001b[0m 5ms/step - accuracy: 0.1294 - loss: 3.8913 - val_accuracy: 0.0982 - val_loss: 4.3286\n",
      "Epoch 22/50\n",
      "\u001b[1m15743/15743\u001b[0m \u001b[32m━━━━━━━━━━━━━━━━━━━━\u001b[0m\u001b[37m\u001b[0m \u001b[1m77s\u001b[0m 5ms/step - accuracy: 0.1295 - loss: 3.8891 - val_accuracy: 0.0975 - val_loss: 4.3340\n",
      "Epoch 23/50\n",
      "\u001b[1m15743/15743\u001b[0m \u001b[32m━━━━━━━━━━━━━━━━━━━━\u001b[0m\u001b[37m\u001b[0m \u001b[1m76s\u001b[0m 5ms/step - accuracy: 0.1298 - loss: 3.8857 - val_accuracy: 0.0979 - val_loss: 4.3210\n",
      "Epoch 24/50\n",
      "\u001b[1m15743/15743\u001b[0m \u001b[32m━━━━━━━━━━━━━━━━━━━━\u001b[0m\u001b[37m\u001b[0m \u001b[1m76s\u001b[0m 5ms/step - accuracy: 0.1304 - loss: 3.8840 - val_accuracy: 0.1006 - val_loss: 4.3120\n",
      "Epoch 25/50\n",
      "\u001b[1m15743/15743\u001b[0m \u001b[32m━━━━━━━━━━━━━━━━━━━━\u001b[0m\u001b[37m\u001b[0m \u001b[1m76s\u001b[0m 5ms/step - accuracy: 0.1300 - loss: 3.8820 - val_accuracy: 0.1001 - val_loss: 4.3170\n",
      "Epoch 26/50\n",
      "\u001b[1m15743/15743\u001b[0m \u001b[32m━━━━━━━━━━━━━━━━━━━━\u001b[0m\u001b[37m\u001b[0m \u001b[1m78s\u001b[0m 5ms/step - accuracy: 0.1305 - loss: 3.8811 - val_accuracy: 0.0979 - val_loss: 4.3477\n",
      "Epoch 27/50\n",
      "\u001b[1m15743/15743\u001b[0m \u001b[32m━━━━━━━━━━━━━━━━━━━━\u001b[0m\u001b[37m\u001b[0m \u001b[1m78s\u001b[0m 5ms/step - accuracy: 0.1304 - loss: 3.8799 - val_accuracy: 0.0984 - val_loss: 4.3625\n",
      "Epoch 28/50\n",
      "\u001b[1m15743/15743\u001b[0m \u001b[32m━━━━━━━━━━━━━━━━━━━━\u001b[0m\u001b[37m\u001b[0m \u001b[1m79s\u001b[0m 5ms/step - accuracy: 0.1310 - loss: 3.8766 - val_accuracy: 0.0988 - val_loss: 4.3395\n",
      "Epoch 29/50\n",
      "\u001b[1m15743/15743\u001b[0m \u001b[32m━━━━━━━━━━━━━━━━━━━━\u001b[0m\u001b[37m\u001b[0m \u001b[1m79s\u001b[0m 5ms/step - accuracy: 0.1309 - loss: 3.8763 - val_accuracy: 0.0989 - val_loss: 4.3185\n",
      "Epoch 30/50\n",
      "\u001b[1m15743/15743\u001b[0m \u001b[32m━━━━━━━━━━━━━━━━━━━━\u001b[0m\u001b[37m\u001b[0m \u001b[1m81s\u001b[0m 5ms/step - accuracy: 0.1307 - loss: 3.8756 - val_accuracy: 0.0990 - val_loss: 4.3303\n",
      "Epoch 31/50\n",
      "\u001b[1m15743/15743\u001b[0m \u001b[32m━━━━━━━━━━━━━━━━━━━━\u001b[0m\u001b[37m\u001b[0m \u001b[1m80s\u001b[0m 5ms/step - accuracy: 0.1313 - loss: 3.8736 - val_accuracy: 0.0991 - val_loss: 4.3273\n",
      "Epoch 32/50\n",
      "\u001b[1m15743/15743\u001b[0m \u001b[32m━━━━━━━━━━━━━━━━━━━━\u001b[0m\u001b[37m\u001b[0m \u001b[1m81s\u001b[0m 5ms/step - accuracy: 0.1304 - loss: 3.8731 - val_accuracy: 0.0982 - val_loss: 4.2979\n",
      "Epoch 33/50\n",
      "\u001b[1m15743/15743\u001b[0m \u001b[32m━━━━━━━━━━━━━━━━━━━━\u001b[0m\u001b[37m\u001b[0m \u001b[1m82s\u001b[0m 5ms/step - accuracy: 0.1312 - loss: 3.8725 - val_accuracy: 0.0978 - val_loss: 4.3600\n",
      "Epoch 34/50\n",
      "\u001b[1m15743/15743\u001b[0m \u001b[32m━━━━━━━━━━━━━━━━━━━━\u001b[0m\u001b[37m\u001b[0m \u001b[1m83s\u001b[0m 5ms/step - accuracy: 0.1311 - loss: 3.8732 - val_accuracy: 0.0986 - val_loss: 4.3293\n",
      "Epoch 35/50\n",
      "\u001b[1m15743/15743\u001b[0m \u001b[32m━━━━━━━━━━━━━━━━━━━━\u001b[0m\u001b[37m\u001b[0m \u001b[1m84s\u001b[0m 5ms/step - accuracy: 0.1313 - loss: 3.8721 - val_accuracy: 0.0996 - val_loss: 4.3898\n",
      "Epoch 36/50\n",
      "\u001b[1m15743/15743\u001b[0m \u001b[32m━━━━━━━━━━━━━━━━━━━━\u001b[0m\u001b[37m\u001b[0m \u001b[1m85s\u001b[0m 5ms/step - accuracy: 0.1315 - loss: 3.8717 - val_accuracy: 0.0984 - val_loss: 4.3885\n",
      "Epoch 37/50\n",
      "\u001b[1m15743/15743\u001b[0m \u001b[32m━━━━━━━━━━━━━━━━━━━━\u001b[0m\u001b[37m\u001b[0m \u001b[1m65s\u001b[0m 4ms/step - accuracy: 0.1309 - loss: 3.8717 - val_accuracy: 0.0993 - val_loss: 4.3528\n",
      "Epoch 38/50\n",
      "\u001b[1m15743/15743\u001b[0m \u001b[32m━━━━━━━━━━━━━━━━━━━━\u001b[0m\u001b[37m\u001b[0m \u001b[1m88s\u001b[0m 6ms/step - accuracy: 0.1315 - loss: 3.8714 - val_accuracy: 0.0986 - val_loss: 4.3322\n",
      "Epoch 39/50\n",
      "\u001b[1m15743/15743\u001b[0m \u001b[32m━━━━━━━━━━━━━━━━━━━━\u001b[0m\u001b[37m\u001b[0m \u001b[1m87s\u001b[0m 6ms/step - accuracy: 0.1312 - loss: 3.8705 - val_accuracy: 0.0998 - val_loss: 4.3502\n",
      "Epoch 40/50\n",
      "\u001b[1m15743/15743\u001b[0m \u001b[32m━━━━━━━━━━━━━━━━━━━━\u001b[0m\u001b[37m\u001b[0m \u001b[1m87s\u001b[0m 6ms/step - accuracy: 0.1315 - loss: 3.8706 - val_accuracy: 0.1006 - val_loss: 4.3554\n",
      "Epoch 41/50\n",
      "\u001b[1m15743/15743\u001b[0m \u001b[32m━━━━━━━━━━━━━━━━━━━━\u001b[0m\u001b[37m\u001b[0m \u001b[1m89s\u001b[0m 6ms/step - accuracy: 0.1312 - loss: 3.8707 - val_accuracy: 0.0993 - val_loss: 4.3727\n",
      "Epoch 42/50\n",
      "\u001b[1m15743/15743\u001b[0m \u001b[32m━━━━━━━━━━━━━━━━━━━━\u001b[0m\u001b[37m\u001b[0m \u001b[1m142s\u001b[0m 6ms/step - accuracy: 0.1311 - loss: 3.8716 - val_accuracy: 0.0980 - val_loss: 4.3509\n",
      "Epoch 43/50\n",
      "\u001b[1m15743/15743\u001b[0m \u001b[32m━━━━━━━━━━━━━━━━━━━━\u001b[0m\u001b[37m\u001b[0m \u001b[1m87s\u001b[0m 6ms/step - accuracy: 0.1311 - loss: 3.8723 - val_accuracy: 0.0987 - val_loss: 4.3359\n",
      "Epoch 44/50\n",
      "\u001b[1m15743/15743\u001b[0m \u001b[32m━━━━━━━━━━━━━━━━━━━━\u001b[0m\u001b[37m\u001b[0m \u001b[1m85s\u001b[0m 5ms/step - accuracy: 0.1316 - loss: 3.8719 - val_accuracy: 0.0991 - val_loss: 4.3444\n",
      "Epoch 45/50\n",
      "\u001b[1m15743/15743\u001b[0m \u001b[32m━━━━━━━━━━━━━━━━━━━━\u001b[0m\u001b[37m\u001b[0m \u001b[1m88s\u001b[0m 6ms/step - accuracy: 0.1313 - loss: 3.8723 - val_accuracy: 0.0967 - val_loss: 4.3741\n",
      "Epoch 46/50\n",
      "\u001b[1m15743/15743\u001b[0m \u001b[32m━━━━━━━━━━━━━━━━━━━━\u001b[0m\u001b[37m\u001b[0m \u001b[1m144s\u001b[0m 6ms/step - accuracy: 0.1313 - loss: 3.8729 - val_accuracy: 0.0978 - val_loss: 4.3483\n",
      "Epoch 47/50\n",
      "\u001b[1m15743/15743\u001b[0m \u001b[32m━━━━━━━━━━━━━━━━━━━━\u001b[0m\u001b[37m\u001b[0m \u001b[1m92s\u001b[0m 6ms/step - accuracy: 0.1315 - loss: 3.8721 - val_accuracy: 0.0950 - val_loss: 4.3277\n",
      "Epoch 48/50\n",
      "\u001b[1m15743/15743\u001b[0m \u001b[32m━━━━━━━━━━━━━━━━━━━━\u001b[0m\u001b[37m\u001b[0m \u001b[1m101s\u001b[0m 6ms/step - accuracy: 0.1314 - loss: 3.8732 - val_accuracy: 0.0945 - val_loss: 4.3528\n",
      "Epoch 49/50\n",
      "\u001b[1m15743/15743\u001b[0m \u001b[32m━━━━━━━━━━━━━━━━━━━━\u001b[0m\u001b[37m\u001b[0m \u001b[1m92s\u001b[0m 6ms/step - accuracy: 0.1312 - loss: 3.8738 - val_accuracy: 0.0999 - val_loss: 4.3374\n",
      "Epoch 50/50\n",
      "\u001b[1m15743/15743\u001b[0m \u001b[32m━━━━━━━━━━━━━━━━━━━━\u001b[0m\u001b[37m\u001b[0m \u001b[1m92s\u001b[0m 6ms/step - accuracy: 0.1311 - loss: 3.8741 - val_accuracy: 0.0950 - val_loss: 4.3285\n"
     ]
    }
   ],
   "source": [
    "\n",
    "# train the model\n",
    "model = tf.keras.models.Sequential([\n",
    "    tf.keras.layers.Conv2D(64, (3, 3), activation='relu', input_shape=(8, 8, 12)),\n",
    "    tf.keras.layers.Conv2D(128, (3, 3), activation='relu'),\n",
    "    tf.keras.layers.Flatten(),\n",
    "    tf.keras.layers.Dense(256, activation='relu'),\n",
    "    tf.keras.layers.Dense(len(move_to_int), activation='softmax')\n",
    "])\n",
    "model.compile(optimizer = tf.keras.optimizers.Adam(), loss='categorical_crossentropy', metrics=['accuracy'])\n",
    "model.summary()\n",
    "model.fit(X, y, epochs=50, validation_split=0.1, batch_size=64)\n",
    "# save the model\n",
    "model.save(\"simulated_filtered_model(original)/SSMF_50EPOCHS.keras\")\n",
    "\n",
    "import pickle\n",
    "# save the encoding\n",
    "with open(\"simulated_filtered_model(original)/move_to_int.pkl\", \"wb\") as f:\n",
    "    pickle.dump(move_to_int, f)\n",
    "int_to_move = {v: k for k, v in move_to_int.items()}\n",
    "with open(\"simulated_filtered_model(original)/int_to_move.pkl\", \"wb\") as f:\n",
    "    pickle.dump(int_to_move, f)\n",
    "# configuration \n",
    "config = {\n",
    "    \"epochs\": 50,\n",
    "    \"batch_size\": 64,\n",
    "    \"validation_split\": 0.1,\n",
    "    \"optimizer\": \"Adam\",\n",
    "    \"input_shape\": (8, 8, 12),\n",
    "}\n",
    "# save the configurations\n",
    "with open(\"simulated_filtered_model(original)/train_config.json\", \"w\") as f:\n",
    "    import json\n",
    "    json.dump(config, f, indent=4)\n",
    "\n"
   ]
  },
  {
   "cell_type": "code",
   "execution_count": null,
   "metadata": {},
   "outputs": [],
   "source": []
  }
 ],
 "metadata": {
  "kernelspec": {
   "display_name": "base",
   "language": "python",
   "name": "python3"
  },
  "language_info": {
   "codemirror_mode": {
    "name": "ipython",
    "version": 3
   },
   "file_extension": ".py",
   "mimetype": "text/x-python",
   "name": "python",
   "nbconvert_exporter": "python",
   "pygments_lexer": "ipython3",
   "version": "3.12.4"
  }
 },
 "nbformat": 4,
 "nbformat_minor": 4
}
