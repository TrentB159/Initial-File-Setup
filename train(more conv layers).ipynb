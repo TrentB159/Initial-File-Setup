{
 "cells": [
  {
   "cell_type": "markdown",
   "metadata": {},
   "source": [
    "# Chess Engine with TensorFlow"
   ]
  },
  {
   "cell_type": "markdown",
   "metadata": {},
   "source": [
    "## Dataset"
   ]
  },
  {
   "cell_type": "code",
   "execution_count": null,
   "metadata": {},
   "outputs": [],
   "source": [
    "import os\n",
    "# inspired by Github user Skripkon \n",
    "# https://github.com/Skripkon/chess-engine/blob/main/engines/tensorflow/train_and_predict.ipynb\n",
    "# used to train models from scratch\n",
    "# took around 3 hours for 20000 games\n",
    "\n",
    "# get the game files\n",
    "files = [file for file in os.listdir(\"simulated_games_filtered_PGN\") if file.endswith(\".pgn\")]"
   ]
  },
  {
   "cell_type": "code",
   "execution_count": null,
   "metadata": {},
   "outputs": [],
   "source": [
    "from chess import pgn\n",
    "\n",
    "# load the games\n",
    "def load_pgn(file_path):\n",
    "    games = []\n",
    "    with open(file_path, 'r') as pgn_file:\n",
    "        while True:\n",
    "            game = pgn.read_game(pgn_file)\n",
    "            if game is None:\n",
    "                break\n",
    "            games.append(game)\n",
    "            \n",
    "    return games"
   ]
  },
  {
   "cell_type": "code",
   "execution_count": null,
   "metadata": {},
   "outputs": [],
   "source": [
    "from tqdm import tqdm\n",
    "# write all the games together \n",
    "\n",
    "games = []\n",
    "for file in tqdm(files):\n",
    "    games.extend(load_pgn(f\"simulated_games_filtered_PGN/{file}\"))"
   ]
  },
  {
   "cell_type": "code",
   "execution_count": null,
   "metadata": {},
   "outputs": [],
   "source": [
    "len(games) # check how many "
   ]
  },
  {
   "cell_type": "markdown",
   "metadata": {},
   "source": [
    "## Build & train a neural network"
   ]
  },
  {
   "cell_type": "code",
   "execution_count": null,
   "metadata": {},
   "outputs": [],
   "source": [
    "import numpy as np\n",
    "import warnings\n",
    "warnings.filterwarnings('ignore')\n",
    "from chess import Board\n",
    "import tensorflow as tf"
   ]
  },
  {
   "cell_type": "code",
   "execution_count": null,
   "metadata": {},
   "outputs": [],
   "source": [
    "#translating the board into a matrix for the predition process \n",
    "def board_to_matrix(board: Board):\n",
    "    matrix = np.zeros((8, 8, 12))\n",
    "    piece_map = board.piece_map()\n",
    "    for square, piece in piece_map.items():\n",
    "        row, col = divmod(square, 8)\n",
    "        piece_type = piece.piece_type - 1\n",
    "        piece_color = 0 if piece.color else 6\n",
    "        matrix[row, col, piece_type + piece_color] = 1\n",
    "    return matrix\n",
    "\n",
    "# create the inputs based off game position and next move \n",
    "def create_input_for_nn(games):\n",
    "    X = []\n",
    "    y = []\n",
    "    for game in games:\n",
    "        board = game.board()\n",
    "        for move in game.mainline_moves():\n",
    "            X.append(board_to_matrix(board))\n",
    "            y.append(move.uci())\n",
    "            board.push(move)\n",
    "    return X, y\n",
    "\n",
    "# encode all the moves\n",
    "def encode_moves(moves):\n",
    "    move_to_int = {move: idx for idx, move in enumerate(set(moves))}\n",
    "    return [move_to_int[move] for move in moves], move_to_int"
   ]
  },
  {
   "cell_type": "code",
   "execution_count": null,
   "metadata": {},
   "outputs": [],
   "source": [
    "# create the training data\n",
    "X, y = create_input_for_nn(games)\n",
    "y, move_to_int = encode_moves(y)\n",
    "y = tf.keras.utils.to_categorical(y, num_classes=len(move_to_int))\n",
    "X = np.array(X)"
   ]
  },
  {
   "cell_type": "code",
   "execution_count": null,
   "metadata": {},
   "outputs": [],
   "source": [
    "\n",
    "# train the model\n",
    "model = tf.keras.models.Sequential([\n",
    "    tf.keras.layers.Conv2D(64, (3, 3), activation='relu', input_shape=(8, 8, 12)),\n",
    "    tf.keras.layers.Conv2D(128, (3, 3), activation='relu'),\n",
    "    \n",
    "    #Added more convolution layers with more filters for better abstraction\n",
    "    tf.keras.layers.Conv2D(256, (3, 3), activation='relu'),\n",
    "    tf.keras.layers.Flatten(),\n",
    "    \n",
    "    tf.keras.layers.Dense(256, activation='relu'),\n",
    "    tf.keras.layers.Dense(len(move_to_int), activation='softmax')\n",
    "])\n",
    "model.compile(optimizer = tf.keras.optimizers.Adam(), loss='categorical_crossentropy', metrics=['accuracy'])\n",
    "model.summary()\n",
    "model.fit(X, y, epochs=50, validation_split=0.1, batch_size=64)\n",
    "# save the model\n",
    "model.save(\"models/simulated_filtered_model(more_conv_layers)/SSMF_50EPOCHS.keras\")\n",
    "\n",
    "import pickle\n",
    "# save the encoding\n",
    "with open(\"models/simulated_filtered_model(more_conv_layers)/move_to_int.pkl\", \"wb\") as f:\n",
    "    pickle.dump(move_to_int, f)\n",
    "int_to_move = {v: k for k, v in move_to_int.items()}\n",
    "with open(\"models/simulated_filtered_model(more_conv_layers)/int_to_move.pkl\", \"wb\") as f:\n",
    "    pickle.dump(int_to_move, f)\n",
    "# configuration \n",
    "config = {\n",
    "    \"epochs\": 50,\n",
    "    \"batch_size\": 64,\n",
    "    \"validation_split\": 0.1,\n",
    "    \"optimizer\": \"Adam\",\n",
    "    \"input_shape\": (8, 8, 12),\n",
    "}\n",
    "# save the configurations\n",
    "with open(\"models/simulated_filtered_model(more_conv_layers)/train_config.json\", \"w\") as f:\n",
    "    import json\n",
    "    json.dump(config, f, indent=4)\n",
    "\n"
   ]
  },
  {
   "cell_type": "code",
   "execution_count": null,
   "metadata": {},
   "outputs": [],
   "source": []
  }
 ],
 "metadata": {
  "kernelspec": {
   "display_name": "Python 3",
   "language": "python",
   "name": "python3"
  },
  "language_info": {
   "codemirror_mode": {
    "name": "ipython",
    "version": 3
   },
   "file_extension": ".py",
   "mimetype": "text/x-python",
   "name": "python",
   "nbconvert_exporter": "python",
   "pygments_lexer": "ipython3",
   "version": "3.13.0"
  }
 },
 "nbformat": 4,
 "nbformat_minor": 4
}
