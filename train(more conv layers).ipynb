{
 "cells": [
  {
   "cell_type": "markdown",
   "metadata": {},
   "source": [
    "# Chess Engine with TensorFlow"
   ]
  },
  {
   "cell_type": "markdown",
   "metadata": {},
   "source": [
    "## Dataset"
   ]
  },
  {
   "cell_type": "code",
   "execution_count": 1,
   "metadata": {},
   "outputs": [],
   "source": [
    "import os\n",
    "# inspired by Github user Skripkon \n",
    "# https://github.com/Skripkon/chess-engine/blob/main/engines/tensorflow/train_and_predict.ipynb\n",
    "# used to train models from scratch\n",
    "# took around 3 hours for 20000 games\n",
    "\n",
    "# get the game files\n",
    "files = [file for file in os.listdir(\"simulated_games_filtered_PGN\") if file.endswith(\".pgn\")]"
   ]
  },
  {
   "cell_type": "code",
   "execution_count": 2,
   "metadata": {},
   "outputs": [],
   "source": [
    "from chess import pgn\n",
    "\n",
    "# load the games\n",
    "def load_pgn(file_path):\n",
    "    games = []\n",
    "    with open(file_path, 'r') as pgn_file:\n",
    "        while True:\n",
    "            game = pgn.read_game(pgn_file)\n",
    "            if game is None:\n",
    "                break\n",
    "            games.append(game)\n",
    "            \n",
    "    return games"
   ]
  },
  {
   "cell_type": "code",
   "execution_count": 3,
   "metadata": {},
   "outputs": [
    {
     "name": "stderr",
     "output_type": "stream",
     "text": [
      "100%|██████████| 11/11 [00:42<00:00,  3.90s/it]\n"
     ]
    }
   ],
   "source": [
    "from tqdm import tqdm\n",
    "# write all the games together \n",
    "\n",
    "games = []\n",
    "for file in tqdm(files):\n",
    "    games.extend(load_pgn(f\"simulated_games_filtered_PGN/{file}\"))"
   ]
  },
  {
   "cell_type": "code",
   "execution_count": 4,
   "metadata": {},
   "outputs": [
    {
     "data": {
      "text/plain": [
       "10085"
      ]
     },
     "execution_count": 4,
     "metadata": {},
     "output_type": "execute_result"
    }
   ],
   "source": [
    "len(games) # check how many "
   ]
  },
  {
   "cell_type": "markdown",
   "metadata": {},
   "source": [
    "## Build & train a neural network"
   ]
  },
  {
   "cell_type": "code",
   "execution_count": 5,
   "metadata": {},
   "outputs": [],
   "source": [
    "import numpy as np\n",
    "import warnings\n",
    "warnings.filterwarnings('ignore')\n",
    "from chess import Board\n",
    "import tensorflow as tf"
   ]
  },
  {
   "cell_type": "code",
   "execution_count": 6,
   "metadata": {},
   "outputs": [],
   "source": [
    "#translating the board into a matrix for the predition process \n",
    "def board_to_matrix(board: Board):\n",
    "    matrix = np.zeros((8, 8, 12))\n",
    "    piece_map = board.piece_map()\n",
    "    for square, piece in piece_map.items():\n",
    "        row, col = divmod(square, 8)\n",
    "        piece_type = piece.piece_type - 1\n",
    "        piece_color = 0 if piece.color else 6\n",
    "        matrix[row, col, piece_type + piece_color] = 1\n",
    "    return matrix\n",
    "\n",
    "# create the inputs based off game position and next move \n",
    "def create_input_for_nn(games):\n",
    "    X = []\n",
    "    y = []\n",
    "    for game in games:\n",
    "        board = game.board()\n",
    "        for move in game.mainline_moves():\n",
    "            X.append(board_to_matrix(board))\n",
    "            y.append(move.uci())\n",
    "            board.push(move)\n",
    "    return X, y\n",
    "\n",
    "# encode all the moves\n",
    "def encode_moves(moves):\n",
    "    move_to_int = {move: idx for idx, move in enumerate(set(moves))}\n",
    "    return [move_to_int[move] for move in moves], move_to_int"
   ]
  },
  {
   "cell_type": "code",
   "execution_count": 7,
   "metadata": {},
   "outputs": [],
   "source": [
    "# create the training data\n",
    "X, y = create_input_for_nn(games)\n",
    "y, move_to_int = encode_moves(y)\n",
    "y = tf.keras.utils.to_categorical(y, num_classes=len(move_to_int))\n",
    "X = np.array(X)"
   ]
  },
  {
   "cell_type": "code",
   "execution_count": 8,
   "metadata": {},
   "outputs": [
    {
     "data": {
      "text/html": [
       "<pre style=\"white-space:pre;overflow-x:auto;line-height:normal;font-family:Menlo,'DejaVu Sans Mono',consolas,'Courier New',monospace\"><span style=\"font-weight: bold\">Model: \"sequential\"</span>\n",
       "</pre>\n"
      ],
      "text/plain": [
       "\u001b[1mModel: \"sequential\"\u001b[0m\n"
      ]
     },
     "metadata": {},
     "output_type": "display_data"
    },
    {
     "data": {
      "text/html": [
       "<pre style=\"white-space:pre;overflow-x:auto;line-height:normal;font-family:Menlo,'DejaVu Sans Mono',consolas,'Courier New',monospace\">┏━━━━━━━━━━━━━━━━━━━━━━━━━━━━━━━━━┳━━━━━━━━━━━━━━━━━━━━━━━━┳━━━━━━━━━━━━━━━┓\n",
       "┃<span style=\"font-weight: bold\"> Layer (type)                    </span>┃<span style=\"font-weight: bold\"> Output Shape           </span>┃<span style=\"font-weight: bold\">       Param # </span>┃\n",
       "┡━━━━━━━━━━━━━━━━━━━━━━━━━━━━━━━━━╇━━━━━━━━━━━━━━━━━━━━━━━━╇━━━━━━━━━━━━━━━┩\n",
       "│ conv2d (<span style=\"color: #0087ff; text-decoration-color: #0087ff\">Conv2D</span>)                 │ (<span style=\"color: #00d7ff; text-decoration-color: #00d7ff\">None</span>, <span style=\"color: #00af00; text-decoration-color: #00af00\">6</span>, <span style=\"color: #00af00; text-decoration-color: #00af00\">6</span>, <span style=\"color: #00af00; text-decoration-color: #00af00\">64</span>)       │         <span style=\"color: #00af00; text-decoration-color: #00af00\">6,976</span> │\n",
       "├─────────────────────────────────┼────────────────────────┼───────────────┤\n",
       "│ conv2d_1 (<span style=\"color: #0087ff; text-decoration-color: #0087ff\">Conv2D</span>)               │ (<span style=\"color: #00d7ff; text-decoration-color: #00d7ff\">None</span>, <span style=\"color: #00af00; text-decoration-color: #00af00\">4</span>, <span style=\"color: #00af00; text-decoration-color: #00af00\">4</span>, <span style=\"color: #00af00; text-decoration-color: #00af00\">128</span>)      │        <span style=\"color: #00af00; text-decoration-color: #00af00\">73,856</span> │\n",
       "├─────────────────────────────────┼────────────────────────┼───────────────┤\n",
       "│ conv2d_2 (<span style=\"color: #0087ff; text-decoration-color: #0087ff\">Conv2D</span>)               │ (<span style=\"color: #00d7ff; text-decoration-color: #00d7ff\">None</span>, <span style=\"color: #00af00; text-decoration-color: #00af00\">2</span>, <span style=\"color: #00af00; text-decoration-color: #00af00\">2</span>, <span style=\"color: #00af00; text-decoration-color: #00af00\">256</span>)      │       <span style=\"color: #00af00; text-decoration-color: #00af00\">295,168</span> │\n",
       "├─────────────────────────────────┼────────────────────────┼───────────────┤\n",
       "│ flatten (<span style=\"color: #0087ff; text-decoration-color: #0087ff\">Flatten</span>)               │ (<span style=\"color: #00d7ff; text-decoration-color: #00d7ff\">None</span>, <span style=\"color: #00af00; text-decoration-color: #00af00\">1024</span>)           │             <span style=\"color: #00af00; text-decoration-color: #00af00\">0</span> │\n",
       "├─────────────────────────────────┼────────────────────────┼───────────────┤\n",
       "│ dense (<span style=\"color: #0087ff; text-decoration-color: #0087ff\">Dense</span>)                   │ (<span style=\"color: #00d7ff; text-decoration-color: #00d7ff\">None</span>, <span style=\"color: #00af00; text-decoration-color: #00af00\">256</span>)            │       <span style=\"color: #00af00; text-decoration-color: #00af00\">262,400</span> │\n",
       "├─────────────────────────────────┼────────────────────────┼───────────────┤\n",
       "│ dense_1 (<span style=\"color: #0087ff; text-decoration-color: #0087ff\">Dense</span>)                 │ (<span style=\"color: #00d7ff; text-decoration-color: #00d7ff\">None</span>, <span style=\"color: #00af00; text-decoration-color: #00af00\">1945</span>)           │       <span style=\"color: #00af00; text-decoration-color: #00af00\">499,865</span> │\n",
       "└─────────────────────────────────┴────────────────────────┴───────────────┘\n",
       "</pre>\n"
      ],
      "text/plain": [
       "┏━━━━━━━━━━━━━━━━━━━━━━━━━━━━━━━━━┳━━━━━━━━━━━━━━━━━━━━━━━━┳━━━━━━━━━━━━━━━┓\n",
       "┃\u001b[1m \u001b[0m\u001b[1mLayer (type)                   \u001b[0m\u001b[1m \u001b[0m┃\u001b[1m \u001b[0m\u001b[1mOutput Shape          \u001b[0m\u001b[1m \u001b[0m┃\u001b[1m \u001b[0m\u001b[1m      Param #\u001b[0m\u001b[1m \u001b[0m┃\n",
       "┡━━━━━━━━━━━━━━━━━━━━━━━━━━━━━━━━━╇━━━━━━━━━━━━━━━━━━━━━━━━╇━━━━━━━━━━━━━━━┩\n",
       "│ conv2d (\u001b[38;5;33mConv2D\u001b[0m)                 │ (\u001b[38;5;45mNone\u001b[0m, \u001b[38;5;34m6\u001b[0m, \u001b[38;5;34m6\u001b[0m, \u001b[38;5;34m64\u001b[0m)       │         \u001b[38;5;34m6,976\u001b[0m │\n",
       "├─────────────────────────────────┼────────────────────────┼───────────────┤\n",
       "│ conv2d_1 (\u001b[38;5;33mConv2D\u001b[0m)               │ (\u001b[38;5;45mNone\u001b[0m, \u001b[38;5;34m4\u001b[0m, \u001b[38;5;34m4\u001b[0m, \u001b[38;5;34m128\u001b[0m)      │        \u001b[38;5;34m73,856\u001b[0m │\n",
       "├─────────────────────────────────┼────────────────────────┼───────────────┤\n",
       "│ conv2d_2 (\u001b[38;5;33mConv2D\u001b[0m)               │ (\u001b[38;5;45mNone\u001b[0m, \u001b[38;5;34m2\u001b[0m, \u001b[38;5;34m2\u001b[0m, \u001b[38;5;34m256\u001b[0m)      │       \u001b[38;5;34m295,168\u001b[0m │\n",
       "├─────────────────────────────────┼────────────────────────┼───────────────┤\n",
       "│ flatten (\u001b[38;5;33mFlatten\u001b[0m)               │ (\u001b[38;5;45mNone\u001b[0m, \u001b[38;5;34m1024\u001b[0m)           │             \u001b[38;5;34m0\u001b[0m │\n",
       "├─────────────────────────────────┼────────────────────────┼───────────────┤\n",
       "│ dense (\u001b[38;5;33mDense\u001b[0m)                   │ (\u001b[38;5;45mNone\u001b[0m, \u001b[38;5;34m256\u001b[0m)            │       \u001b[38;5;34m262,400\u001b[0m │\n",
       "├─────────────────────────────────┼────────────────────────┼───────────────┤\n",
       "│ dense_1 (\u001b[38;5;33mDense\u001b[0m)                 │ (\u001b[38;5;45mNone\u001b[0m, \u001b[38;5;34m1945\u001b[0m)           │       \u001b[38;5;34m499,865\u001b[0m │\n",
       "└─────────────────────────────────┴────────────────────────┴───────────────┘\n"
      ]
     },
     "metadata": {},
     "output_type": "display_data"
    },
    {
     "data": {
      "text/html": [
       "<pre style=\"white-space:pre;overflow-x:auto;line-height:normal;font-family:Menlo,'DejaVu Sans Mono',consolas,'Courier New',monospace\"><span style=\"font-weight: bold\"> Total params: </span><span style=\"color: #00af00; text-decoration-color: #00af00\">1,138,265</span> (4.34 MB)\n",
       "</pre>\n"
      ],
      "text/plain": [
       "\u001b[1m Total params: \u001b[0m\u001b[38;5;34m1,138,265\u001b[0m (4.34 MB)\n"
      ]
     },
     "metadata": {},
     "output_type": "display_data"
    },
    {
     "data": {
      "text/html": [
       "<pre style=\"white-space:pre;overflow-x:auto;line-height:normal;font-family:Menlo,'DejaVu Sans Mono',consolas,'Courier New',monospace\"><span style=\"font-weight: bold\"> Trainable params: </span><span style=\"color: #00af00; text-decoration-color: #00af00\">1,138,265</span> (4.34 MB)\n",
       "</pre>\n"
      ],
      "text/plain": [
       "\u001b[1m Trainable params: \u001b[0m\u001b[38;5;34m1,138,265\u001b[0m (4.34 MB)\n"
      ]
     },
     "metadata": {},
     "output_type": "display_data"
    },
    {
     "data": {
      "text/html": [
       "<pre style=\"white-space:pre;overflow-x:auto;line-height:normal;font-family:Menlo,'DejaVu Sans Mono',consolas,'Courier New',monospace\"><span style=\"font-weight: bold\"> Non-trainable params: </span><span style=\"color: #00af00; text-decoration-color: #00af00\">0</span> (0.00 B)\n",
       "</pre>\n"
      ],
      "text/plain": [
       "\u001b[1m Non-trainable params: \u001b[0m\u001b[38;5;34m0\u001b[0m (0.00 B)\n"
      ]
     },
     "metadata": {},
     "output_type": "display_data"
    },
    {
     "name": "stdout",
     "output_type": "stream",
     "text": [
      "Epoch 1/50\n",
      "\u001b[1m15743/15743\u001b[0m \u001b[32m━━━━━━━━━━━━━━━━━━━━\u001b[0m\u001b[37m\u001b[0m \u001b[1m111s\u001b[0m 7ms/step - accuracy: 0.0537 - loss: 5.6807 - val_accuracy: 0.0712 - val_loss: 5.0918\n",
      "Epoch 2/50\n",
      "\u001b[1m15743/15743\u001b[0m \u001b[32m━━━━━━━━━━━━━━━━━━━━\u001b[0m\u001b[37m\u001b[0m \u001b[1m102s\u001b[0m 6ms/step - accuracy: 0.0785 - loss: 4.8482 - val_accuracy: 0.0808 - val_loss: 4.7546\n",
      "Epoch 3/50\n",
      "\u001b[1m15743/15743\u001b[0m \u001b[32m━━━━━━━━━━━━━━━━━━━━\u001b[0m\u001b[37m\u001b[0m \u001b[1m99s\u001b[0m 6ms/step - accuracy: 0.0868 - loss: 4.5900 - val_accuracy: 0.0833 - val_loss: 4.6383\n",
      "Epoch 4/50\n",
      "\u001b[1m15743/15743\u001b[0m \u001b[32m━━━━━━━━━━━━━━━━━━━━\u001b[0m\u001b[37m\u001b[0m \u001b[1m100s\u001b[0m 6ms/step - accuracy: 0.0929 - loss: 4.4639 - val_accuracy: 0.0862 - val_loss: 4.5697\n",
      "Epoch 5/50\n",
      "\u001b[1m15743/15743\u001b[0m \u001b[32m━━━━━━━━━━━━━━━━━━━━\u001b[0m\u001b[37m\u001b[0m \u001b[1m102s\u001b[0m 6ms/step - accuracy: 0.0967 - loss: 4.3833 - val_accuracy: 0.0891 - val_loss: 4.5311\n",
      "Epoch 6/50\n",
      "\u001b[1m15743/15743\u001b[0m \u001b[32m━━━━━━━━━━━━━━━━━━━━\u001b[0m\u001b[37m\u001b[0m \u001b[1m141s\u001b[0m 6ms/step - accuracy: 0.1001 - loss: 4.3267 - val_accuracy: 0.0891 - val_loss: 4.4943\n",
      "Epoch 7/50\n",
      "\u001b[1m15743/15743\u001b[0m \u001b[32m━━━━━━━━━━━━━━━━━━━━\u001b[0m\u001b[37m\u001b[0m \u001b[1m101s\u001b[0m 6ms/step - accuracy: 0.1029 - loss: 4.2844 - val_accuracy: 0.0917 - val_loss: 4.4746\n",
      "Epoch 8/50\n",
      "\u001b[1m15743/15743\u001b[0m \u001b[32m━━━━━━━━━━━━━━━━━━━━\u001b[0m\u001b[37m\u001b[0m \u001b[1m101s\u001b[0m 6ms/step - accuracy: 0.1055 - loss: 4.2508 - val_accuracy: 0.0925 - val_loss: 4.4674\n",
      "Epoch 9/50\n",
      "\u001b[1m15743/15743\u001b[0m \u001b[32m━━━━━━━━━━━━━━━━━━━━\u001b[0m\u001b[37m\u001b[0m \u001b[1m100s\u001b[0m 6ms/step - accuracy: 0.1072 - loss: 4.2236 - val_accuracy: 0.0906 - val_loss: 4.4603\n",
      "Epoch 10/50\n",
      "\u001b[1m15743/15743\u001b[0m \u001b[32m━━━━━━━━━━━━━━━━━━━━\u001b[0m\u001b[37m\u001b[0m \u001b[1m100s\u001b[0m 6ms/step - accuracy: 0.1088 - loss: 4.2002 - val_accuracy: 0.0929 - val_loss: 4.4500\n",
      "Epoch 11/50\n",
      "\u001b[1m15743/15743\u001b[0m \u001b[32m━━━━━━━━━━━━━━━━━━━━\u001b[0m\u001b[37m\u001b[0m \u001b[1m101s\u001b[0m 6ms/step - accuracy: 0.1094 - loss: 4.1830 - val_accuracy: 0.0922 - val_loss: 4.4268\n",
      "Epoch 12/50\n",
      "\u001b[1m15743/15743\u001b[0m \u001b[32m━━━━━━━━━━━━━━━━━━━━\u001b[0m\u001b[37m\u001b[0m \u001b[1m102s\u001b[0m 6ms/step - accuracy: 0.1112 - loss: 4.1660 - val_accuracy: 0.0940 - val_loss: 4.4457\n",
      "Epoch 13/50\n",
      "\u001b[1m15743/15743\u001b[0m \u001b[32m━━━━━━━━━━━━━━━━━━━━\u001b[0m\u001b[37m\u001b[0m \u001b[1m101s\u001b[0m 6ms/step - accuracy: 0.1124 - loss: 4.1528 - val_accuracy: 0.0952 - val_loss: 4.4356\n",
      "Epoch 14/50\n",
      "\u001b[1m15743/15743\u001b[0m \u001b[32m━━━━━━━━━━━━━━━━━━━━\u001b[0m\u001b[37m\u001b[0m \u001b[1m102s\u001b[0m 6ms/step - accuracy: 0.1134 - loss: 4.1383 - val_accuracy: 0.0926 - val_loss: 4.4350\n",
      "Epoch 15/50\n",
      "\u001b[1m15743/15743\u001b[0m \u001b[32m━━━━━━━━━━━━━━━━━━━━\u001b[0m\u001b[37m\u001b[0m \u001b[1m102s\u001b[0m 6ms/step - accuracy: 0.1138 - loss: 4.1276 - val_accuracy: 0.0939 - val_loss: 4.4331\n",
      "Epoch 16/50\n",
      "\u001b[1m15743/15743\u001b[0m \u001b[32m━━━━━━━━━━━━━━━━━━━━\u001b[0m\u001b[37m\u001b[0m \u001b[1m102s\u001b[0m 6ms/step - accuracy: 0.1150 - loss: 4.1177 - val_accuracy: 0.0941 - val_loss: 4.4190\n",
      "Epoch 17/50\n",
      "\u001b[1m15743/15743\u001b[0m \u001b[32m━━━━━━━━━━━━━━━━━━━━\u001b[0m\u001b[37m\u001b[0m \u001b[1m103s\u001b[0m 7ms/step - accuracy: 0.1156 - loss: 4.1085 - val_accuracy: 0.0936 - val_loss: 4.4156\n",
      "Epoch 18/50\n",
      "\u001b[1m15743/15743\u001b[0m \u001b[32m━━━━━━━━━━━━━━━━━━━━\u001b[0m\u001b[37m\u001b[0m \u001b[1m102s\u001b[0m 6ms/step - accuracy: 0.1163 - loss: 4.1008 - val_accuracy: 0.0943 - val_loss: 4.4104\n",
      "Epoch 19/50\n",
      "\u001b[1m15743/15743\u001b[0m \u001b[32m━━━━━━━━━━━━━━━━━━━━\u001b[0m\u001b[37m\u001b[0m \u001b[1m102s\u001b[0m 6ms/step - accuracy: 0.1171 - loss: 4.0932 - val_accuracy: 0.0957 - val_loss: 4.4078\n",
      "Epoch 20/50\n",
      "\u001b[1m15743/15743\u001b[0m \u001b[32m━━━━━━━━━━━━━━━━━━━━\u001b[0m\u001b[37m\u001b[0m \u001b[1m101s\u001b[0m 6ms/step - accuracy: 0.1175 - loss: 4.0867 - val_accuracy: 0.0940 - val_loss: 4.4416\n",
      "Epoch 21/50\n",
      "\u001b[1m15743/15743\u001b[0m \u001b[32m━━━━━━━━━━━━━━━━━━━━\u001b[0m\u001b[37m\u001b[0m \u001b[1m101s\u001b[0m 6ms/step - accuracy: 0.1179 - loss: 4.0801 - val_accuracy: 0.0937 - val_loss: 4.4327\n",
      "Epoch 22/50\n",
      "\u001b[1m15743/15743\u001b[0m \u001b[32m━━━━━━━━━━━━━━━━━━━━\u001b[0m\u001b[37m\u001b[0m \u001b[1m142s\u001b[0m 6ms/step - accuracy: 0.1183 - loss: 4.0745 - val_accuracy: 0.0958 - val_loss: 4.4243\n",
      "Epoch 23/50\n",
      "\u001b[1m15743/15743\u001b[0m \u001b[32m━━━━━━━━━━━━━━━━━━━━\u001b[0m\u001b[37m\u001b[0m \u001b[1m102s\u001b[0m 6ms/step - accuracy: 0.1184 - loss: 4.0709 - val_accuracy: 0.0935 - val_loss: 4.4002\n",
      "Epoch 24/50\n",
      "\u001b[1m15743/15743\u001b[0m \u001b[32m━━━━━━━━━━━━━━━━━━━━\u001b[0m\u001b[37m\u001b[0m \u001b[1m102s\u001b[0m 6ms/step - accuracy: 0.1190 - loss: 4.0651 - val_accuracy: 0.0938 - val_loss: 4.4436\n",
      "Epoch 25/50\n",
      "\u001b[1m15743/15743\u001b[0m \u001b[32m━━━━━━━━━━━━━━━━━━━━\u001b[0m\u001b[37m\u001b[0m \u001b[1m93s\u001b[0m 6ms/step - accuracy: 0.1197 - loss: 4.0605 - val_accuracy: 0.0931 - val_loss: 4.4123\n",
      "Epoch 26/50\n",
      "\u001b[1m15743/15743\u001b[0m \u001b[32m━━━━━━━━━━━━━━━━━━━━\u001b[0m\u001b[37m\u001b[0m \u001b[1m100s\u001b[0m 6ms/step - accuracy: 0.1194 - loss: 4.0570 - val_accuracy: 0.0926 - val_loss: 4.4108\n",
      "Epoch 27/50\n",
      "\u001b[1m15743/15743\u001b[0m \u001b[32m━━━━━━━━━━━━━━━━━━━━\u001b[0m\u001b[37m\u001b[0m \u001b[1m107s\u001b[0m 7ms/step - accuracy: 0.1198 - loss: 4.0542 - val_accuracy: 0.0944 - val_loss: 4.4295\n",
      "Epoch 28/50\n",
      "\u001b[1m15743/15743\u001b[0m \u001b[32m━━━━━━━━━━━━━━━━━━━━\u001b[0m\u001b[37m\u001b[0m \u001b[1m107s\u001b[0m 7ms/step - accuracy: 0.1199 - loss: 4.0512 - val_accuracy: 0.0962 - val_loss: 4.4058\n",
      "Epoch 29/50\n",
      "\u001b[1m15743/15743\u001b[0m \u001b[32m━━━━━━━━━━━━━━━━━━━━\u001b[0m\u001b[37m\u001b[0m \u001b[1m95s\u001b[0m 6ms/step - accuracy: 0.1202 - loss: 4.0465 - val_accuracy: 0.0940 - val_loss: 4.4095\n",
      "Epoch 30/50\n",
      "\u001b[1m15743/15743\u001b[0m \u001b[32m━━━━━━━━━━━━━━━━━━━━\u001b[0m\u001b[37m\u001b[0m \u001b[1m109s\u001b[0m 7ms/step - accuracy: 0.1207 - loss: 4.0452 - val_accuracy: 0.0919 - val_loss: 4.4272\n",
      "Epoch 31/50\n",
      "\u001b[1m15743/15743\u001b[0m \u001b[32m━━━━━━━━━━━━━━━━━━━━\u001b[0m\u001b[37m\u001b[0m \u001b[1m110s\u001b[0m 7ms/step - accuracy: 0.1210 - loss: 4.0419 - val_accuracy: 0.0950 - val_loss: 4.4110\n",
      "Epoch 32/50\n",
      "\u001b[1m15743/15743\u001b[0m \u001b[32m━━━━━━━━━━━━━━━━━━━━\u001b[0m\u001b[37m\u001b[0m \u001b[1m115s\u001b[0m 7ms/step - accuracy: 0.1207 - loss: 4.0394 - val_accuracy: 0.0949 - val_loss: 4.4007\n",
      "Epoch 33/50\n",
      "\u001b[1m15743/15743\u001b[0m \u001b[32m━━━━━━━━━━━━━━━━━━━━\u001b[0m\u001b[37m\u001b[0m \u001b[1m114s\u001b[0m 7ms/step - accuracy: 0.1212 - loss: 4.0380 - val_accuracy: 0.0945 - val_loss: 4.4126\n",
      "Epoch 34/50\n",
      "\u001b[1m15743/15743\u001b[0m \u001b[32m━━━━━━━━━━━━━━━━━━━━\u001b[0m\u001b[37m\u001b[0m \u001b[1m100s\u001b[0m 6ms/step - accuracy: 0.1217 - loss: 4.0329 - val_accuracy: 0.0948 - val_loss: 4.4033\n",
      "Epoch 35/50\n",
      "\u001b[1m15743/15743\u001b[0m \u001b[32m━━━━━━━━━━━━━━━━━━━━\u001b[0m\u001b[37m\u001b[0m \u001b[1m95s\u001b[0m 6ms/step - accuracy: 0.1220 - loss: 4.0308 - val_accuracy: 0.0954 - val_loss: 4.4064\n",
      "Epoch 36/50\n",
      "\u001b[1m15743/15743\u001b[0m \u001b[32m━━━━━━━━━━━━━━━━━━━━\u001b[0m\u001b[37m\u001b[0m \u001b[1m96s\u001b[0m 6ms/step - accuracy: 0.1218 - loss: 4.0286 - val_accuracy: 0.0947 - val_loss: 4.4092\n",
      "Epoch 37/50\n",
      "\u001b[1m15743/15743\u001b[0m \u001b[32m━━━━━━━━━━━━━━━━━━━━\u001b[0m\u001b[37m\u001b[0m \u001b[1m96s\u001b[0m 6ms/step - accuracy: 0.1220 - loss: 4.0275 - val_accuracy: 0.0939 - val_loss: 4.4018\n",
      "Epoch 38/50\n",
      "\u001b[1m15743/15743\u001b[0m \u001b[32m━━━━━━━━━━━━━━━━━━━━\u001b[0m\u001b[37m\u001b[0m \u001b[1m98s\u001b[0m 6ms/step - accuracy: 0.1224 - loss: 4.0256 - val_accuracy: 0.0948 - val_loss: 4.4316\n",
      "Epoch 39/50\n",
      "\u001b[1m15743/15743\u001b[0m \u001b[32m━━━━━━━━━━━━━━━━━━━━\u001b[0m\u001b[37m\u001b[0m \u001b[1m98s\u001b[0m 6ms/step - accuracy: 0.1222 - loss: 4.0212 - val_accuracy: 0.0935 - val_loss: 4.4288\n",
      "Epoch 40/50\n",
      "\u001b[1m15743/15743\u001b[0m \u001b[32m━━━━━━━━━━━━━━━━━━━━\u001b[0m\u001b[37m\u001b[0m \u001b[1m99s\u001b[0m 6ms/step - accuracy: 0.1227 - loss: 4.0211 - val_accuracy: 0.0927 - val_loss: 4.4223\n",
      "Epoch 41/50\n",
      "\u001b[1m15743/15743\u001b[0m \u001b[32m━━━━━━━━━━━━━━━━━━━━\u001b[0m\u001b[37m\u001b[0m \u001b[1m100s\u001b[0m 6ms/step - accuracy: 0.1226 - loss: 4.0193 - val_accuracy: 0.0936 - val_loss: 4.4054\n",
      "Epoch 42/50\n",
      "\u001b[1m15743/15743\u001b[0m \u001b[32m━━━━━━━━━━━━━━━━━━━━\u001b[0m\u001b[37m\u001b[0m \u001b[1m100s\u001b[0m 6ms/step - accuracy: 0.1227 - loss: 4.0165 - val_accuracy: 0.0947 - val_loss: 4.4220\n",
      "Epoch 43/50\n",
      "\u001b[1m15743/15743\u001b[0m \u001b[32m━━━━━━━━━━━━━━━━━━━━\u001b[0m\u001b[37m\u001b[0m \u001b[1m100s\u001b[0m 6ms/step - accuracy: 0.1230 - loss: 4.0157 - val_accuracy: 0.0937 - val_loss: 4.4137\n",
      "Epoch 44/50\n",
      "\u001b[1m15743/15743\u001b[0m \u001b[32m━━━━━━━━━━━━━━━━━━━━\u001b[0m\u001b[37m\u001b[0m \u001b[1m2712s\u001b[0m 172ms/step - accuracy: 0.1233 - loss: 4.0145 - val_accuracy: 0.0925 - val_loss: 4.4264\n",
      "Epoch 45/50\n",
      "\u001b[1m15743/15743\u001b[0m \u001b[32m━━━━━━━━━━━━━━━━━━━━\u001b[0m\u001b[37m\u001b[0m \u001b[1m100s\u001b[0m 6ms/step - accuracy: 0.1226 - loss: 4.0158 - val_accuracy: 0.0925 - val_loss: 4.4068\n",
      "Epoch 46/50\n",
      "\u001b[1m15743/15743\u001b[0m \u001b[32m━━━━━━━━━━━━━━━━━━━━\u001b[0m\u001b[37m\u001b[0m \u001b[1m100s\u001b[0m 6ms/step - accuracy: 0.1232 - loss: 4.0131 - val_accuracy: 0.0931 - val_loss: 4.4261\n",
      "Epoch 47/50\n",
      "\u001b[1m15743/15743\u001b[0m \u001b[32m━━━━━━━━━━━━━━━━━━━━\u001b[0m\u001b[37m\u001b[0m \u001b[1m98s\u001b[0m 6ms/step - accuracy: 0.1233 - loss: 4.0121 - val_accuracy: 0.0935 - val_loss: 4.4253\n",
      "Epoch 48/50\n",
      "\u001b[1m15743/15743\u001b[0m \u001b[32m━━━━━━━━━━━━━━━━━━━━\u001b[0m\u001b[37m\u001b[0m \u001b[1m98s\u001b[0m 6ms/step - accuracy: 0.1229 - loss: 4.0128 - val_accuracy: 0.0945 - val_loss: 4.4460\n",
      "Epoch 49/50\n",
      "\u001b[1m15743/15743\u001b[0m \u001b[32m━━━━━━━━━━━━━━━━━━━━\u001b[0m\u001b[37m\u001b[0m \u001b[1m97s\u001b[0m 6ms/step - accuracy: 0.1235 - loss: 4.0116 - val_accuracy: 0.0931 - val_loss: 4.4139\n",
      "Epoch 50/50\n",
      "\u001b[1m15743/15743\u001b[0m \u001b[32m━━━━━━━━━━━━━━━━━━━━\u001b[0m\u001b[37m\u001b[0m \u001b[1m94s\u001b[0m 6ms/step - accuracy: 0.1234 - loss: 4.0108 - val_accuracy: 0.0945 - val_loss: 4.4222\n"
     ]
    }
   ],
   "source": [
    "\n",
    "# train the model\n",
    "model = tf.keras.models.Sequential([\n",
    "    tf.keras.layers.Conv2D(64, (3, 3), activation='relu', input_shape=(8, 8, 12)),\n",
    "    tf.keras.layers.Conv2D(128, (3, 3), activation='relu'),\n",
    "    \n",
    "    #Added more convolution layers with more filters for better abstraction\n",
    "    tf.keras.layers.Conv2D(256, (3, 3), activation='relu'),\n",
    "    tf.keras.layers.Flatten(),\n",
    "    \n",
    "    tf.keras.layers.Dense(256, activation='relu'),\n",
    "    tf.keras.layers.Dense(len(move_to_int), activation='softmax')\n",
    "])\n",
    "model.compile(optimizer = tf.keras.optimizers.Adam(), loss='categorical_crossentropy', metrics=['accuracy'])\n",
    "model.summary()\n",
    "model.fit(X, y, epochs=50, validation_split=0.1, batch_size=64)\n",
    "# save the model\n",
    "model.save(\"simulated_filtered_model(more_conv_layers)/SSMF_50EPOCHS.keras\")\n",
    "\n",
    "import pickle\n",
    "# save the encoding\n",
    "with open(\"simulated_filtered_model(more_conv_layers)/move_to_int.pkl\", \"wb\") as f:\n",
    "    pickle.dump(move_to_int, f)\n",
    "int_to_move = {v: k for k, v in move_to_int.items()}\n",
    "with open(\"simulated_filtered_model(more_conv_layers)/int_to_move.pkl\", \"wb\") as f:\n",
    "    pickle.dump(int_to_move, f)\n",
    "# configuration \n",
    "config = {\n",
    "    \"epochs\": 50,\n",
    "    \"batch_size\": 64,\n",
    "    \"validation_split\": 0.1,\n",
    "    \"optimizer\": \"Adam\",\n",
    "    \"input_shape\": (8, 8, 12),\n",
    "}\n",
    "# save the configurations\n",
    "with open(\"simulated_filtered_model(more_conv_layers)/train_config.json\", \"w\") as f:\n",
    "    import json\n",
    "    json.dump(config, f, indent=4)\n",
    "\n"
   ]
  },
  {
   "cell_type": "code",
   "execution_count": null,
   "metadata": {},
   "outputs": [],
   "source": []
  }
 ],
 "metadata": {
  "kernelspec": {
   "display_name": "base",
   "language": "python",
   "name": "python3"
  },
  "language_info": {
   "codemirror_mode": {
    "name": "ipython",
    "version": 3
   },
   "file_extension": ".py",
   "mimetype": "text/x-python",
   "name": "python",
   "nbconvert_exporter": "python",
   "pygments_lexer": "ipython3",
   "version": "3.12.4"
  }
 },
 "nbformat": 4,
 "nbformat_minor": 4
}
