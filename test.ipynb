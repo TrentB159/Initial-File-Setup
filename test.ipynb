{
 "cells": [
  {
   "cell_type": "code",
   "execution_count": 1,
   "id": "fc60104a",
   "metadata": {},
   "outputs": [],
   "source": [
    "import warnings\n",
    "warnings.filterwarnings(\"ignore\")\n",
    "import numpy as np\n",
    "from chess import Board\n",
    "import tensorflow as tf\n",
    "\n",
    "\n",
    "# inspired by Github user Skripkon \n",
    "# https://github.com/Skripkon/chess-engine/blob/main/engines/tensorflow/train_and_predict.ipynb\n",
    "# this ran 100 games for each loaded model against the Stockfish bot and saved the results "
   ]
  },
  {
   "cell_type": "code",
   "execution_count": 3,
   "id": "13951931",
   "metadata": {},
   "outputs": [],
   "source": [
    "# Load in the model that you want to use\n",
    "# and the move encoding\n",
    "\n",
    "model = tf.keras.models.load_model(\"models/simulated_filtered_model/DENSE_50EPOCHS.keras\")\n",
    "import pickle\n",
    "\n",
    "with open(\"models/simulated_filtered_model/DENSE_move_to_int.pkl\", \"rb\") as f:\n",
    "    move_to_int = pickle.load(f)\n",
    "\n",
    "with open(\"models/simulated_filtered_model/DENSE_int_to_move.pkl\", \"rb\") as f:\n",
    "    int_to_move = pickle.load(f)\n"
   ]
  },
  {
   "cell_type": "code",
   "execution_count": 4,
   "id": "1d6d3a1f",
   "metadata": {},
   "outputs": [],
   "source": [
    "#translating the board into a matrix for the predition process \n",
    "def board_to_matrix(board: Board):\n",
    "    matrix = np.zeros((8, 8, 12))\n",
    "    piece_map = board.piece_map()\n",
    "    for square, piece in piece_map.items():\n",
    "        row, col = divmod(square, 8)\n",
    "        piece_type = piece.piece_type - 1\n",
    "        piece_color = 0 if piece.color else 6\n",
    "        matrix[row, col, piece_type + piece_color] = 1\n",
    "    return matrix"
   ]
  },
  {
   "cell_type": "code",
   "execution_count": 5,
   "id": "ebc4e88d",
   "metadata": {
    "scrolled": true
   },
   "outputs": [
    {
     "name": "stderr",
     "output_type": "stream",
     "text": [
      "100%|██████████| 100/100 [04:19<00:00,  2.60s/it]\n"
     ]
    }
   ],
   "source": [
    "import chess\n",
    "import chess.engine\n",
    "import chess.pgn\n",
    "import random\n",
    "from tqdm import tqdm\n",
    "\n",
    "# stockfish engine path\n",
    "# this is the path on my Home machine it should be chnaged if you are using it \n",
    "STOCKFISH_PATH = \"/opt/homebrew/bin/stockfish\"\n",
    "stockfish_engine = chess.engine.SimpleEngine.popen_uci(STOCKFISH_PATH)\n",
    "\n",
    "# engine stats\n",
    "stockfish_engine.configure({\n",
    "    \"UCI_LimitStrength\": True,\n",
    "    \"UCI_Elo\": 2000\n",
    "})\n",
    "\n",
    "# stockfish model move\n",
    "def stockfish_move(board):\n",
    "    result = stockfish_engine.play(board, chess.engine.Limit(time=0.1))\n",
    "    return result.move.uci()\n",
    "\n",
    "# our model move\n",
    "def predict_next_move(board):\n",
    "    board_matrix = board_to_matrix(board).reshape(1, 8, 8, 12)\n",
    "    predictions = model.predict(board_matrix, verbose = 0)[0]\n",
    "    legal_moves = list(board.legal_moves)\n",
    "    legal_moves_uci = [move.uci() for move in legal_moves]\n",
    "    sorted_indices = np.argsort(predictions)[::-1]\n",
    "    for move_index in sorted_indices:\n",
    "        move = int_to_move[move_index]\n",
    "        if move in legal_moves_uci:\n",
    "            return move\n",
    "    return None\n",
    "\n",
    "# play n games and write it to a pgn filem file name must be chnaged accordingly\n",
    "with open(\"newmodelsim.pgn\", \"w\") as pgn_file: # change accordingly\n",
    "    # counter to see how many is done\n",
    "    for game_num in tqdm(range(100)):\n",
    "        # make a game \n",
    "        board = chess.Board()\n",
    "        game = chess.pgn.Game()\n",
    "\n",
    "        # write the game headers\n",
    "        game.headers[\"White\"] = \"newmodel\" \n",
    "        game.headers[\"Black\"] = \"Stockfish_2000\"\n",
    "\n",
    "        node = game\n",
    "\n",
    "        # play the game\n",
    "        while not board.is_game_over():\n",
    "            if board.turn == chess.WHITE:\n",
    "                move_uci = predict_next_move(board)\n",
    "            else:\n",
    "                move_uci = stockfish_move(board)\n",
    "\n",
    "            move = chess.Move.from_uci(move_uci)\n",
    "            board.push(move)\n",
    "            node = node.add_variation(move)\n",
    "\n",
    "        # save the outcome \n",
    "        outcome = board.outcome()\n",
    "        if outcome:\n",
    "            game.headers[\"Result\"] = outcome.result()\n",
    "        else:\n",
    "            game.headers[\"Result\"] = \"*\"\n",
    "\n",
    "        # write to file \n",
    "        print(game, file=pgn_file, end=\"\\n\\n\")\n",
    "\n",
    "stockfish_engine.quit()"
   ]
  },
  {
   "cell_type": "code",
   "execution_count": null,
   "id": "55120b71",
   "metadata": {},
   "outputs": [],
   "source": []
  }
 ],
 "metadata": {
  "kernelspec": {
   "display_name": "Python 3",
   "language": "python",
   "name": "python3"
  },
  "language_info": {
   "codemirror_mode": {
    "name": "ipython",
    "version": 3
   },
   "file_extension": ".py",
   "mimetype": "text/x-python",
   "name": "python",
   "nbconvert_exporter": "python",
   "pygments_lexer": "ipython3",
   "version": "3.13.0"
  }
 },
 "nbformat": 4,
 "nbformat_minor": 5
}
